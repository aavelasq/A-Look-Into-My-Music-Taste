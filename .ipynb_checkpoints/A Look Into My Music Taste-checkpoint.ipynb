{
 "cells": [
  {
   "cell_type": "markdown",
   "metadata": {},
   "source": [
    "# A Look Into My Music Taste"
   ]
  },
  {
   "cell_type": "markdown",
   "metadata": {},
   "source": [
    "Music plays an essential role in my lifestyle as I constantly use it for a variety of reasons ranging from a means of stress relief to just pure entertainment. Because I listen to music on daily basis, apps like Spotify are a great resource to listen to the artists that I love and discover new ones. Over the years, I felt like my music taste has sort of changed and I thought it would be interesting to analyze my Spotify data in order to find what might have changed over time and what trends might exist in such data. Although Spotify does have their own app that they offer for customers who are curious about their listening habits in the form of Spotify Wrapped, there are certain things that they don't include on there that I would want to find out.\n",
    "\n",
    "For this project, I will be using data taken from my public playlists on my Spotify account so that I can analyze what patterns that might exist in music I've been listening to. "
   ]
  },
  {
   "cell_type": "markdown",
   "metadata": {},
   "source": [
    "## Information to Know Beforehand\n",
    "\n",
    "For this project, I gathered data that related to the audio features of a track using the Spotify API and Spotipy. I did not use all of the audio features given because I felt some of them weren't applicable to the type of songs/tracks I felt that I normally listened to and I didn't want to work with such a large dataset yet considering this is my first project. Below are the following audio features I chose to gather data on along with [their descriptions as given on the Spotify API documentation](https://developer.spotify.com/documentation/web-api/reference/tracks/get-audio-features/): \n",
    "\n",
    "* Tempo: The overall estimated tempo of a track in beats per minute (BPM). In musical terminology, tempo is the speed or pace of a given piece and derives directly from the average beat duration.\n",
    "* Danceability: Danceability describes how suitable a track is for dancing based on a combination of musical elements including tempo, rhythm stability, beat strength, and overall regularity. A value of 0.0 is least danceable and 1.0 is most danceable.\n",
    "* Energy: Energy is a measure from 0.0 to 1.0 and represents a perceptual measure of intensity and activity. Typically, energetic tracks feel fast, loud, and noisy. For example, death metal has high energy, while a Bach prelude scores low on the scale.\n",
    "* Instrumentalness: Predicts whether a track contains no vocals. “Ooh” and “aah” sounds are treated as instrumental in this context. Rap or spoken word tracks are clearly “vocal”. The closer the instrumentalness value is to 1.0, the greater likelihood the track contains no vocal content. Values above 0.5 are intended to represent instrumental tracks, but confidence is higher as the value approaches 1.0.\n",
    "* Valence: A measure from 0.0 to 1.0 describing the musical positiveness conveyed by a track. Tracks with high valence sound more positive (e.g. happy, cheerful, euphoric), while tracks with low valence sound more negative (e.g. sad, depressed, angry).\n"
   ]
  },
  {
   "cell_type": "code",
   "execution_count": 1,
   "metadata": {},
   "outputs": [],
   "source": [
    "import pandas as pd\n",
    "import matplotlib.pyplot as plt\n",
    "import numpy as np\n",
    "import datetime as dt"
   ]
  },
  {
   "cell_type": "markdown",
   "metadata": {},
   "source": [
    "So, I already have collected and cleaned my data by utilizing the Spotify API and Spotipy to collect all the IDs of each playlist in my library and utilize that information to get the data I need. I then put all of my data into CSV files for easy access. "
   ]
  },
  {
   "cell_type": "code",
   "execution_count": 2,
   "metadata": {},
   "outputs": [],
   "source": [
    "# Import all my public playlists from my Spotify account \n",
    "playlist1 = pd.read_csv('user_playlists/pl_1.csv')\n",
    "playlist2 = pd.read_csv('user_playlists/pl_2.csv')\n",
    "playlist3 = pd.read_csv('user_playlists/pl_3.csv')\n",
    "playlist4 = pd.read_csv('user_playlists/pl_4.csv')\n",
    "playlist5 = pd.read_csv('user_playlists/pl_5.csv')\n",
    "playlist6 = pd.read_csv('user_playlists/pl_6.csv')\n",
    "playlist7 = pd.read_csv('user_playlists/pl_7.csv')\n",
    "playlist8 = pd.read_csv('user_playlists/pl_8.csv')\n",
    "playlist9 = pd.read_csv('user_playlists/pl_9.csv')\n",
    "playlist10 = pd.read_csv('user_playlists/pl_10.csv')\n",
    "playlist11 = pd.read_csv('user_playlists/pl_11.csv')"
   ]
  },
  {
   "cell_type": "code",
   "execution_count": 3,
   "metadata": {},
   "outputs": [],
   "source": [
    "# Putting all playlists into one list for easier access\n",
    "playlists_list = [playlist1, playlist2, playlist3, playlist4, playlist5, playlist6, \n",
    "             playlist7, playlist8, playlist9, playlist10, playlist11]\n",
    "# Removing unnecessary columns\n",
    "for i in range(len(playlists_list)):\n",
    "    playlists_list[i] = playlists_list[i].drop('Unnamed: 0', axis=1)"
   ]
  },
  {
   "cell_type": "code",
   "execution_count": 4,
   "metadata": {},
   "outputs": [
    {
     "data": {
      "text/html": [
       "<div>\n",
       "<style scoped>\n",
       "    .dataframe tbody tr th:only-of-type {\n",
       "        vertical-align: middle;\n",
       "    }\n",
       "\n",
       "    .dataframe tbody tr th {\n",
       "        vertical-align: top;\n",
       "    }\n",
       "\n",
       "    .dataframe thead th {\n",
       "        text-align: right;\n",
       "    }\n",
       "</style>\n",
       "<table border=\"1\" class=\"dataframe\">\n",
       "  <thead>\n",
       "    <tr style=\"text-align: right;\">\n",
       "      <th></th>\n",
       "      <th>Date Added</th>\n",
       "      <th>Album Title</th>\n",
       "      <th>Artist Name</th>\n",
       "      <th>Track</th>\n",
       "      <th>Popularity</th>\n",
       "      <th>Tempo</th>\n",
       "      <th>Danceability</th>\n",
       "      <th>Energy</th>\n",
       "      <th>Instrumentalness</th>\n",
       "      <th>Valence</th>\n",
       "      <th>Genre</th>\n",
       "    </tr>\n",
       "  </thead>\n",
       "  <tbody>\n",
       "    <tr>\n",
       "      <td>0</td>\n",
       "      <td>2019-10-04</td>\n",
       "      <td>SuperM - The 1st Mini Album</td>\n",
       "      <td>SuperM</td>\n",
       "      <td>2 Fast</td>\n",
       "      <td>64</td>\n",
       "      <td>130.040</td>\n",
       "      <td>0.468</td>\n",
       "      <td>0.737</td>\n",
       "      <td>0.000000</td>\n",
       "      <td>0.496</td>\n",
       "      <td>k-pop</td>\n",
       "    </tr>\n",
       "    <tr>\n",
       "      <td>1</td>\n",
       "      <td>2019-10-04</td>\n",
       "      <td>SuperM - The 1st Mini Album</td>\n",
       "      <td>SuperM</td>\n",
       "      <td>No Manners</td>\n",
       "      <td>65</td>\n",
       "      <td>140.005</td>\n",
       "      <td>0.673</td>\n",
       "      <td>0.632</td>\n",
       "      <td>0.000111</td>\n",
       "      <td>0.377</td>\n",
       "      <td>k-pop</td>\n",
       "    </tr>\n",
       "    <tr>\n",
       "      <td>2</td>\n",
       "      <td>2019-10-04</td>\n",
       "      <td>City Lights - The 1st Mini Album</td>\n",
       "      <td>BAEKHYUN</td>\n",
       "      <td>Ice Queen</td>\n",
       "      <td>55</td>\n",
       "      <td>105.027</td>\n",
       "      <td>0.643</td>\n",
       "      <td>0.797</td>\n",
       "      <td>0.000000</td>\n",
       "      <td>0.513</td>\n",
       "      <td>k-pop</td>\n",
       "    </tr>\n",
       "    <tr>\n",
       "      <td>3</td>\n",
       "      <td>2019-10-04</td>\n",
       "      <td>City Lights - The 1st Mini Album</td>\n",
       "      <td>BAEKHYUN</td>\n",
       "      <td>UN Village</td>\n",
       "      <td>70</td>\n",
       "      <td>83.985</td>\n",
       "      <td>0.674</td>\n",
       "      <td>0.589</td>\n",
       "      <td>0.000000</td>\n",
       "      <td>0.577</td>\n",
       "      <td>k-pop</td>\n",
       "    </tr>\n",
       "    <tr>\n",
       "      <td>4</td>\n",
       "      <td>2019-10-04</td>\n",
       "      <td>Purple</td>\n",
       "      <td>SOHLHEE</td>\n",
       "      <td>Purple</td>\n",
       "      <td>51</td>\n",
       "      <td>112.042</td>\n",
       "      <td>0.756</td>\n",
       "      <td>0.661</td>\n",
       "      <td>0.000000</td>\n",
       "      <td>0.326</td>\n",
       "      <td>NaN</td>\n",
       "    </tr>\n",
       "  </tbody>\n",
       "</table>\n",
       "</div>"
      ],
      "text/plain": [
       "   Date Added                       Album Title Artist Name       Track  \\\n",
       "0  2019-10-04       SuperM - The 1st Mini Album      SuperM      2 Fast   \n",
       "1  2019-10-04       SuperM - The 1st Mini Album      SuperM  No Manners   \n",
       "2  2019-10-04  City Lights - The 1st Mini Album    BAEKHYUN   Ice Queen   \n",
       "3  2019-10-04  City Lights - The 1st Mini Album    BAEKHYUN  UN Village   \n",
       "4  2019-10-04                            Purple     SOHLHEE      Purple   \n",
       "\n",
       "   Popularity    Tempo  Danceability  Energy  Instrumentalness  Valence  Genre  \n",
       "0          64  130.040         0.468   0.737          0.000000    0.496  k-pop  \n",
       "1          65  140.005         0.673   0.632          0.000111    0.377  k-pop  \n",
       "2          55  105.027         0.643   0.797          0.000000    0.513  k-pop  \n",
       "3          70   83.985         0.674   0.589          0.000000    0.577  k-pop  \n",
       "4          51  112.042         0.756   0.661          0.000000    0.326    NaN  "
      ]
     },
     "execution_count": 4,
     "metadata": {},
     "output_type": "execute_result"
    }
   ],
   "source": [
    "# Example from playlist1\n",
    "playlists_list[0].head()"
   ]
  },
  {
   "cell_type": "code",
   "execution_count": 5,
   "metadata": {},
   "outputs": [],
   "source": [
    "# Putting all tracks from each playlist into one single dataframe\n",
    "all_playlists = pd.concat(playlists_list, axis=0)\n",
    "# Remove duplicate tracks\n",
    "all_playlists = all_playlists.drop_duplicates(subset=['Track'])\n",
    "all_playlists = all_playlists.reset_index(drop=True)"
   ]
  },
  {
   "cell_type": "markdown",
   "metadata": {},
   "source": [
    "## Analyzing the Overall Data: Genre and Popularity"
   ]
  },
  {
   "cell_type": "code",
   "execution_count": 6,
   "metadata": {},
   "outputs": [
    {
     "data": {
      "text/plain": [
       "k-pop                 414\n",
       "alternative r&b        33\n",
       "candy pop              12\n",
       "canadian hip hop       11\n",
       "chinese electropop     10\n",
       "Name: Genre, dtype: int64"
      ]
     },
     "execution_count": 6,
     "metadata": {},
     "output_type": "execute_result"
    }
   ],
   "source": [
    "all_playlists['Genre'].value_counts().head()"
   ]
  },
  {
   "cell_type": "markdown",
   "metadata": {},
   "source": [
    "Upon first glance at the genres of all the songs I listen to, we can already see that most of the music I listen to seems to be mainly K-Pop alongside with Pop, Hip-Hop, and R&B based on how many tracks in my playlists are by artists that belong to that particular genre. \n",
    "\n",
    "Now, let's look at the popularity values of each track and determine which are the top 10 most popular tracks in all my playlists."
   ]
  },
  {
   "cell_type": "code",
   "execution_count": 7,
   "metadata": {},
   "outputs": [
    {
     "data": {
      "text/html": [
       "<div>\n",
       "<style scoped>\n",
       "    .dataframe tbody tr th:only-of-type {\n",
       "        vertical-align: middle;\n",
       "    }\n",
       "\n",
       "    .dataframe tbody tr th {\n",
       "        vertical-align: top;\n",
       "    }\n",
       "\n",
       "    .dataframe thead th {\n",
       "        text-align: right;\n",
       "    }\n",
       "</style>\n",
       "<table border=\"1\" class=\"dataframe\">\n",
       "  <thead>\n",
       "    <tr style=\"text-align: right;\">\n",
       "      <th></th>\n",
       "      <th>Date Added</th>\n",
       "      <th>Album Title</th>\n",
       "      <th>Artist Name</th>\n",
       "      <th>Track</th>\n",
       "      <th>Popularity</th>\n",
       "      <th>Genre</th>\n",
       "    </tr>\n",
       "  </thead>\n",
       "  <tbody>\n",
       "    <tr>\n",
       "      <td>232</td>\n",
       "      <td>2019-12-06</td>\n",
       "      <td>Heartless</td>\n",
       "      <td>The Weeknd</td>\n",
       "      <td>Heartless</td>\n",
       "      <td>94</td>\n",
       "      <td>canadian contemporary r&amp;b</td>\n",
       "    </tr>\n",
       "    <tr>\n",
       "      <td>79</td>\n",
       "      <td>2019-07-03</td>\n",
       "      <td>Spider-Man: Into the Spider-Verse (Soundtrack ...</td>\n",
       "      <td>Post Malone</td>\n",
       "      <td>Sunflower - Spider-Man: Into the Spider-Verse</td>\n",
       "      <td>90</td>\n",
       "      <td>dfw rap</td>\n",
       "    </tr>\n",
       "    <tr>\n",
       "      <td>219</td>\n",
       "      <td>2018-09-18</td>\n",
       "      <td>ASTROWORLD</td>\n",
       "      <td>Travis Scott</td>\n",
       "      <td>SICKO MODE</td>\n",
       "      <td>89</td>\n",
       "      <td>rap</td>\n",
       "    </tr>\n",
       "    <tr>\n",
       "      <td>107</td>\n",
       "      <td>2019-08-23</td>\n",
       "      <td>Motivation</td>\n",
       "      <td>Normani</td>\n",
       "      <td>Motivation</td>\n",
       "      <td>87</td>\n",
       "      <td>dance pop</td>\n",
       "    </tr>\n",
       "    <tr>\n",
       "      <td>263</td>\n",
       "      <td>2019-08-14</td>\n",
       "      <td>IGOR</td>\n",
       "      <td>Tyler, The Creator</td>\n",
       "      <td>EARFQUAKE</td>\n",
       "      <td>86</td>\n",
       "      <td>hip hop</td>\n",
       "    </tr>\n",
       "    <tr>\n",
       "      <td>262</td>\n",
       "      <td>2019-08-14</td>\n",
       "      <td>American Teen</td>\n",
       "      <td>Khalid</td>\n",
       "      <td>Location</td>\n",
       "      <td>84</td>\n",
       "      <td>alternative r&amp;b</td>\n",
       "    </tr>\n",
       "    <tr>\n",
       "      <td>223</td>\n",
       "      <td>2018-12-01</td>\n",
       "      <td>Without Warning</td>\n",
       "      <td>Offset</td>\n",
       "      <td>Ric Flair Drip (&amp; Metro Boomin)</td>\n",
       "      <td>83</td>\n",
       "      <td>atl hip hop</td>\n",
       "    </tr>\n",
       "    <tr>\n",
       "      <td>620</td>\n",
       "      <td>2019-09-23</td>\n",
       "      <td>Feel Special</td>\n",
       "      <td>TWICE</td>\n",
       "      <td>Feel Special</td>\n",
       "      <td>83</td>\n",
       "      <td>k-pop</td>\n",
       "    </tr>\n",
       "    <tr>\n",
       "      <td>230</td>\n",
       "      <td>2019-10-14</td>\n",
       "      <td>Over It</td>\n",
       "      <td>Summer Walker</td>\n",
       "      <td>Playing Games (with Bryson Tiller) - Extended ...</td>\n",
       "      <td>83</td>\n",
       "      <td>alternative r&amp;b</td>\n",
       "    </tr>\n",
       "    <tr>\n",
       "      <td>197</td>\n",
       "      <td>2018-07-14</td>\n",
       "      <td>T R A P S O U L</td>\n",
       "      <td>Bryson Tiller</td>\n",
       "      <td>Don't</td>\n",
       "      <td>82</td>\n",
       "      <td>pop</td>\n",
       "    </tr>\n",
       "  </tbody>\n",
       "</table>\n",
       "</div>"
      ],
      "text/plain": [
       "     Date Added                                        Album Title  \\\n",
       "232  2019-12-06                                          Heartless   \n",
       "79   2019-07-03  Spider-Man: Into the Spider-Verse (Soundtrack ...   \n",
       "219  2018-09-18                                         ASTROWORLD   \n",
       "107  2019-08-23                                         Motivation   \n",
       "263  2019-08-14                                               IGOR   \n",
       "262  2019-08-14                                      American Teen   \n",
       "223  2018-12-01                                    Without Warning   \n",
       "620  2019-09-23                                       Feel Special   \n",
       "230  2019-10-14                                            Over It   \n",
       "197  2018-07-14                                    T R A P S O U L   \n",
       "\n",
       "            Artist Name                                              Track  \\\n",
       "232          The Weeknd                                          Heartless   \n",
       "79          Post Malone      Sunflower - Spider-Man: Into the Spider-Verse   \n",
       "219        Travis Scott                                         SICKO MODE   \n",
       "107             Normani                                         Motivation   \n",
       "263  Tyler, The Creator                                          EARFQUAKE   \n",
       "262              Khalid                                           Location   \n",
       "223              Offset                    Ric Flair Drip (& Metro Boomin)   \n",
       "620               TWICE                                       Feel Special   \n",
       "230       Summer Walker  Playing Games (with Bryson Tiller) - Extended ...   \n",
       "197       Bryson Tiller                                              Don't   \n",
       "\n",
       "     Popularity                      Genre  \n",
       "232          94  canadian contemporary r&b  \n",
       "79           90                    dfw rap  \n",
       "219          89                        rap  \n",
       "107          87                  dance pop  \n",
       "263          86                    hip hop  \n",
       "262          84            alternative r&b  \n",
       "223          83                atl hip hop  \n",
       "620          83                      k-pop  \n",
       "230          83            alternative r&b  \n",
       "197          82                        pop  "
      ]
     },
     "execution_count": 7,
     "metadata": {},
     "output_type": "execute_result"
    }
   ],
   "source": [
    "pop_table = all_playlists.drop(['Tempo', 'Danceability', 'Energy', 'Instrumentalness', 'Valence'], axis=1)\n",
    "pop_table.sort_values(by=['Popularity'], ascending=False).head(10)"
   ]
  },
  {
   "cell_type": "code",
   "execution_count": 8,
   "metadata": {},
   "outputs": [
    {
     "name": "stdout",
     "output_type": "stream",
     "text": [
      "Popularity Mean: 35.1\n"
     ]
    }
   ],
   "source": [
    "print(\"Popularity Mean: \" + str(round(pop_table['Popularity'].mean(), 2)))"
   ]
  },
  {
   "cell_type": "markdown",
   "metadata": {},
   "source": [
    "Looking at the top 10 most popular tracks out of all my playlists, tracks that go under the category of Pop, Hip-Hop/Rap, and K-pop tend to have higher popularity values. The popularity mean is only 35.09, indicating that I do not tend to listen to songs that are deemed \"popular\" according to Spotify. \n",
    "\n",
    "Now that we know the overall popularity mean, how might it differ if we only look at the songs that I listened to during a particular year? Let's analyze the popularity means of the songs that I've listened to over the years to see what might have changed over time. "
   ]
  },
  {
   "cell_type": "code",
   "execution_count": 9,
   "metadata": {},
   "outputs": [
    {
     "name": "stdout",
     "output_type": "stream",
     "text": [
      "Pop. Mean of Songs in 2014: 0.0\n",
      "Pop. Mean of Songs in 2015: 30.49\n",
      "Pop. Mean of Songs in 2016: 1.2\n",
      "Pop. Mean of Songs in 2017: 44.09\n",
      "Pop. Mean of Songs in 2018: 45.28\n",
      "Pop. Mean of Songs in 2019: 49.95\n"
     ]
    }
   ],
   "source": [
    "# Convert date column to datetime format to extract year easier \n",
    "pop_table['Date Added'] = pd.to_datetime(pop_table['Date Added'])\n",
    "\n",
    "# Calculates popularity mean of all songs added during a certain year \n",
    "for x in range(min(pop_table['Date Added'].dt.year), max(pop_table['Date Added'].dt.year) + 1):\n",
    "    year_table = pop_table[pop_table['Date Added'].dt.year == x]\n",
    "    print(\"Pop. Mean of Songs in \" + str(x) + \": \" \n",
    "          + str(round(year_table['Popularity'].mean(), 2)))"
   ]
  },
  {
   "cell_type": "markdown",
   "metadata": {},
   "source": [
    "Excluding the outliers from 2014 and 2016, it is shown that there is definitely an increase in the popularity mean of the songs that I listened to in a certain year, meaning that I have been listening to more and more popular songs as the years go by. I find it surprising that the values for 2014 and 2016 are so low though, maybe it could be due to the amount of songs that I listened to or the genres. Let's look at those values to see what might be the cause."
   ]
  },
  {
   "cell_type": "code",
   "execution_count": 10,
   "metadata": {},
   "outputs": [
    {
     "name": "stdout",
     "output_type": "stream",
     "text": [
      "Amount of Songs in 2014: 1\n",
      "Amount of Songs in 2016: 148\n"
     ]
    }
   ],
   "source": [
    "yr2014_table = pop_table[pop_table['Date Added'].dt.year == 2014]\n",
    "yr2016_table = pop_table[pop_table['Date Added'].dt.year == 2016]\n",
    "\n",
    "print(\"Amount of Songs in 2014: \" + str(yr2014_table['Track'].count()))\n",
    "print(\"Amount of Songs in 2016: \" + str(yr2016_table['Track'].count()))"
   ]
  },
  {
   "cell_type": "markdown",
   "metadata": {},
   "source": [
    "Based on the data above, the popularity mean value must be 0 due to the fact that there was only one song that was added to a playlist in 2014. But 148 songs were added in 2016, so why is the popularity mean value still so low? Let's investigate further into the 2016 table to see what might be the cause of this. "
   ]
  },
  {
   "cell_type": "code",
   "execution_count": 11,
   "metadata": {},
   "outputs": [
    {
     "name": "stdout",
     "output_type": "stream",
     "text": [
      "Genre Counts\n",
      "k-pop                 135\n",
      "chinese idol pop        7\n",
      "chinese electropop      5\n",
      "j-idol                  1\n",
      "Name: Genre, dtype: int64\n",
      "\n",
      "Popularity  Counts\n",
      "0     128\n",
      "1      12\n",
      "3       3\n",
      "61      1\n",
      "51      1\n",
      "30      1\n",
      "13      1\n",
      "2       1\n",
      "Name: Popularity, dtype: int64\n"
     ]
    }
   ],
   "source": [
    "print(\"Genre Counts\")\n",
    "print(yr2016_table['Genre'].value_counts())\n",
    "print(\"\\n\" + \"Popularity  Counts\")\n",
    "print(yr2016_table['Popularity'].value_counts())"
   ]
  },
  {
   "cell_type": "markdown",
   "metadata": {},
   "source": [
    "Looking at the popularity counts of all the songs added in 2016, most of the songs have a popularity value of 0, which explains why the popularity mean for that year is so low. Also looking at the genre counts, the majority of the songs are classified under the genre of K-Pop. This suggests that most of the K-Pop songs that I listened to have a popularity value of 0. Based on this we can conclude that because I listened to mostly K-Pop songs in 2016, this caused the popularity mean for that year to be fairly low. \n",
    "\n",
    "Now that we looked at genre and popularity, let's put our focus next on the audio features of the songs. "
   ]
  },
  {
   "cell_type": "markdown",
   "metadata": {},
   "source": [
    "## Analysis of Audio Features"
   ]
  },
  {
   "cell_type": "code",
   "execution_count": 12,
   "metadata": {},
   "outputs": [
    {
     "data": {
      "text/plain": [
       "Danceability        0.658920\n",
       "Energy              0.733742\n",
       "Instrumentalness    0.003660\n",
       "Valence             0.569448\n",
       "dtype: float64"
      ]
     },
     "execution_count": 12,
     "metadata": {},
     "output_type": "execute_result"
    }
   ],
   "source": [
    "af_allpl = all_playlists.drop(['Tempo', 'Popularity'], axis=1)\n",
    "allpl_mean = af_allpl.mean()\n",
    "allpl_mean"
   ]
  },
  {
   "cell_type": "code",
   "execution_count": 20,
   "metadata": {},
   "outputs": [
    {
     "data": {
      "image/png": "[encoded data removed]",
      "text/plain": [
       "<Figure size 1080x216 with 1 Axes>"
      ]
     },
     "metadata": {
      "needs_background": "light"
     },
     "output_type": "display_data"
    }
   ],
   "source": [
    "#Data visualization of means of audio features across all playlists\n",
    "plt.barh(np.arange(4), af_allpl.mean(), color='steelblue')\n",
    "plt.yticks(np.arange(4), list(af_allpl)[4:8], fontsize = 12)\n",
    "plt.rcParams['figure.figsize'] = 15, 3\n",
    "plt.xlabel('Mean', fontsize = 12)\n",
    "plt.ylabel('Audio Features', fontsize = 12)\n",
    "plt.title('Audio Feature Means of All Playlists')\n",
    "plt.show()"
   ]
  },
  {
   "cell_type": "markdown",
   "metadata": {},
   "source": [
    "Looking at the data, we can see that the overall music that I listen to tends to be very energetic, danceable, and fairly musicially positive (based on the valence mean). Also, the instrumentalness mean shows that I don't listen tend to listen to music that doesn't have vocals in it. \n",
    "\n",
    "However, these statistics across my entire playlist library might not be true for music that I'm currently listening to. Since I might have songs or genres that I no longer listen to on these playlists (because I honestly don't update some of them anymore but I don't want to delete them either), it might be best to analyze a playlist that contains all of the songs that I'm currently into, which I do have: the playlist contained in playlist1."
   ]
  },
  {
   "cell_type": "code",
   "execution_count": 14,
   "metadata": {},
   "outputs": [
    {
     "data": {
      "text/plain": [
       "Danceability        0.663357\n",
       "Energy              0.760500\n",
       "Instrumentalness    0.000004\n",
       "Valence             0.617643\n",
       "dtype: float64"
      ]
     },
     "execution_count": 14,
     "metadata": {},
     "output_type": "execute_result"
    }
   ],
   "source": [
    "current_pl = playlist1.drop(['Unnamed: 0', 'Tempo', 'Popularity'], axis=1)\n",
    "current_mean = current_pl.mean()\n",
    "current_mean"
   ]
  },
  {
   "cell_type": "code",
   "execution_count": 15,
   "metadata": {},
   "outputs": [
    {
     "data": {
      "image/png": "[encoded data removed]",
      "text/plain": [
       "<Figure size 1080x216 with 1 Axes>"
      ]
     },
     "metadata": {
      "needs_background": "light"
     },
     "output_type": "display_data"
    }
   ],
   "source": [
    "#Data visualization of means of audio features across playlist of songs I currently listen to\n",
    "plt.barh(np.arange(4), current_mean, color='steelblue')\n",
    "plt.yticks(np.arange(4), list(current_pl)[4:8], fontsize = 12)\n",
    "plt.rcParams['figure.figsize'] = 15, 3\n",
    "plt.xlabel('Mean', fontsize = 12)\n",
    "plt.ylabel('Audio Features', fontsize = 12)\n",
    "plt.title('Audio Feature Means of Current Playlist')\n",
    "plt.show()"
   ]
  },
  {
   "cell_type": "code",
   "execution_count": 16,
   "metadata": {},
   "outputs": [
    {
     "data": {
      "text/plain": [
       "Danceability        0.004437\n",
       "Energy              0.026758\n",
       "Instrumentalness   -0.003655\n",
       "Valence             0.048195\n",
       "dtype: float64"
      ]
     },
     "execution_count": 16,
     "metadata": {},
     "output_type": "execute_result"
    }
   ],
   "source": [
    "# Difference between audio feature means of all my playlists \n",
    "# versus the playlist of songs I'm currently listening to\n",
    "current_mean - allpl_mean"
   ]
  },
  {
   "cell_type": "markdown",
   "metadata": {},
   "source": [
    "Overall, there isn't much of a difference between the means of the audio features across all my playlists versus the current playlist I'm listening to. But we can see there is a slight increase in danceability, energy, and valence  with a decrease in instrumentalness, which further emphasizes that I don't tend to listen to anything that doesn't have vocals in it. (I'm a sucker for songs with good vocals, what can I say?)"
   ]
  },
  {
   "cell_type": "markdown",
   "metadata": {},
   "source": [
    "## Analysis of Tempo Means\n",
    "\n",
    "How about tempo? I expect the mean tempo to be high due to my earlier analysis of the audio features but let's investigate to see if there's any sort of variation."
   ]
  },
  {
   "cell_type": "code",
   "execution_count": 17,
   "metadata": {},
   "outputs": [
    {
     "name": "stdout",
     "output_type": "stream",
     "text": [
      "Tempo Mean Across All Playlists: 119.04613162118785\n",
      "Tempo Mean Of Current Playlist: 119.85485714285717\n",
      "Difference of Tempo Means: 0.8087255216693165\n"
     ]
    }
   ],
   "source": [
    "all_tempo_mean = all_playlists['Tempo'].mean()\n",
    "current_tempo_mean = playlist1['Tempo'].mean()\n",
    "print(\"Tempo Mean Across All Playlists: \" + str(all_tempo_mean))\n",
    "print(\"Tempo Mean Of Current Playlist: \" + str(current_tempo_mean))\n",
    "print(\"Difference of Tempo Means: \" + str(abs(all_tempo_mean - current_tempo_mean)))"
   ]
  },
  {
   "cell_type": "code",
   "execution_count": 18,
   "metadata": {},
   "outputs": [
    {
     "data": {
      "image/png": "[encoded data removed]",
      "text/plain": [
       "<Figure size 1080x216 with 1 Axes>"
      ]
     },
     "metadata": {
      "needs_background": "light"
     },
     "output_type": "display_data"
    }
   ],
   "source": [
    "plt.hist(all_playlists['Tempo'], color='steelblue')\n",
    "plt.hist(playlist1['Tempo'], color='aqua')\n",
    "plt.xlabel(\"Tempo Means\")\n",
    "plt.ylabel(\"Counts\")\n",
    "plt.title('Tempo Means of All Playlists versus Current Playlist')\n",
    "plt.show()"
   ]
  },
  {
   "cell_type": "markdown",
   "metadata": {},
   "source": [
    "The two tempo means of all my playlists versus my current playlist don't have much of a difference, which I found kind of surprising as I expected there to be a more of a difference. The two means only have a difference of about 0.81. According to the histogram above, the tempo values across all playlists highly vary from as low as 60 BPM to 200 BPM. However in my current playlist, the tempo only varies from 80 BPM to 140-160 BPM. \n",
    "\n",
    "Since the means are similar to each other, let's calculate the standard deviation to see how much variation is within the data."
   ]
  },
  {
   "cell_type": "code",
   "execution_count": 19,
   "metadata": {},
   "outputs": [
    {
     "name": "stdout",
     "output_type": "stream",
     "text": [
      "Standard Deviation of All Playlists: 24.17\n",
      "Standard Deviation of Current Playlist: 24.5\n"
     ]
    }
   ],
   "source": [
    "print(\"Standard Deviation of All Playlists: \" + \n",
    "        str(round(np.std(all_playlists['Tempo']), 2)))\n",
    "print(\"Standard Deviation of Current Playlist: \" + \n",
    "      str(round(np.std(playlist1['Tempo']), 2)))"
   ]
  },
  {
   "cell_type": "markdown",
   "metadata": {},
   "source": [
    "So both datasets have the same standard deviation but since the dataset for all playlists is larger than the dataset representing my current playlist, this means that there is lower variation among tempo values across all my playlists versus my current playlist. \n",
    "\n",
    "What this means is that overall the songs that I listen to tends to only fall within a certain tempo value range, suggesting that I tend to listen more to songs with fast tempos. This makes sense considering the high mean values I got for the audio features earlier. On the other hand, the high variation among tempos in my current song playlist suggests that my music taste might be changing as I'm listening to songs with varying tempos instead of songs that revolve around the same tempo range. However, there might be outliers in my current song playlist dataset, which could change what standard deviation I get so I cannot conclude that my music taste is actively changing."
   ]
  },
  {
   "cell_type": "markdown",
   "metadata": {},
   "source": [
    "## Conclusion\n",
    "\n",
    "Based on my analysis, I don't tend to listen to \"popular\" songs (which I found kind of surprising) even though over the years, I have been starting to listen to more and more popular songs. A lot of the songs that I listen to both overall and currently have high valence, energy, and danceability values meaning that the more upbeat a song is, the more likely I would probably listen to it. The tempo mean for both all playlists and my current listening playlist have fast tempos, further emphasizing my graviation towards more upbeat songs. \n",
    "\n",
    "Although the results that I got weren't that completely unexpected, I still felt that I learned a lot about my listening habits and it was interesting to see that my music taste isn't as diverse as I thought it was. Considering how this is my first data analysis project, I felt that I was able to find out a considerable amount of information based on the data I had. There is definitely more that I can investigate into, but I wanted to keep this project nice and simple for my first one. \n",
    "\n",
    "### Thank you for reading !!"
   ]
  }
 ],
 "metadata": {
  "kernelspec": {
   "display_name": "Python 3",
   "language": "python",
   "name": "python3"
  },
  "language_info": {
   "codemirror_mode": {
    "name": "ipython",
    "version": 3
   },
   "file_extension": ".py",
   "mimetype": "text/x-python",
   "name": "python",
   "nbconvert_exporter": "python",
   "pygments_lexer": "ipython3",
   "version": "3.7.4"
  }
 },
 "nbformat": 4,
 "nbformat_minor": 2
}
