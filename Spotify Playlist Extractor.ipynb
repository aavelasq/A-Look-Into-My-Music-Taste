{
 "cells": [
  {
   "cell_type": "code",
   "execution_count": 2,
   "metadata": {},
   "outputs": [],
   "source": [
    "import pandas as pd"
   ]
  },
  {
   "cell_type": "code",
   "execution_count": 3,
   "metadata": {},
   "outputs": [],
   "source": [
    "import spotipy\n",
    "from spotipy.oauth2 import SpotifyClientCredentials\n",
    "\n",
    "client_id = \"YOUR CLIENT ID\" \n",
    "client_secret = \"YOUR CLIENT SECRET\" \n",
    "\n",
    "client_credentials_manager = SpotifyClientCredentials(client_id=client_id, client_secret=client_secret)\n",
    "sp = spotipy.Spotify(client_credentials_manager=client_credentials_manager)"
   ]
  },
  {
   "cell_type": "code",
   "execution_count": 5,
   "metadata": {},
   "outputs": [],
   "source": [
    "user_id = 'YOUR USER ID' \n",
    "playlists = sp.user_playlists(user_id)\n",
    "playlist_ids = []\n",
    "while playlists:\n",
    "    for i, playlist in enumerate(playlists['items']):\n",
    "        playlist_ids.append(playlist['uri'])\n",
    "    if playlists['next']:\n",
    "        playlists = sp.next(playlists)\n",
    "    else:\n",
    "        playlists = None"
   ]
  },
  {
   "cell_type": "code",
   "execution_count": 6,
   "metadata": {},
   "outputs": [],
   "source": [
    "def get_playlist_tracks(username,playlist_id):\n",
    "    results = sp.user_playlist_tracks(username,playlist_id)\n",
    "    tracks = results['items']\n",
    "    while results['next']:\n",
    "        results = sp.next(results)\n",
    "        tracks.extend(results['items'])\n",
    "    return tracks"
   ]
  },
  {
   "cell_type": "code",
   "execution_count": 7,
   "metadata": {},
   "outputs": [],
   "source": [
    "def get_track_album_title(track):\n",
    "    return track['album']['name']\n",
    "\n",
    "def get_track_artist(track):\n",
    "    return track['artists'][0]['name']\n",
    "\n",
    "def get_track_name(track):\n",
    "    return track['name']\n",
    "\n",
    "def get_track_popularity(track):\n",
    "    return track['popularity']\n",
    "\n",
    "def get_track_tempo(track_id):\n",
    "    return sp.audio_features(track_id)[0]['tempo']\n",
    "\n",
    "def get_track_danceability(track_id):\n",
    "    return sp.audio_features(track_id)[0]['danceability']\n",
    "\n",
    "def get_track_energy(track_id):\n",
    "    return sp.audio_features(track_id)[0]['energy']\n",
    "\n",
    "def get_track_instrumentalness(track_id):\n",
    "    return sp.audio_features(track_id)[0]['instrumentalness']\n",
    "\n",
    "def get_track_valence(track_id):\n",
    "    return sp.audio_features(track_id)[0]['valence']\n",
    "\n",
    "def get_track_added_date(track):\n",
    "    return track['added_at'][0:10]\n",
    "\n",
    "def get_artist_genre(track):\n",
    "    artist = track['artists'][0]['uri']\n",
    "    if (len(sp.artist(artist)['genres']) >= 1):\n",
    "        return sp.artist(artist)['genres'][0]"
   ]
  },
  {
   "cell_type": "code",
   "execution_count": 8,
   "metadata": {},
   "outputs": [],
   "source": [
    "# Puts all track info into inital dictionary to make sure info matches to its respective track\n",
    "def pl_track_dict(pl, pl_len):\n",
    "    playlist_tracks = []\n",
    "    track_categories = ['Date Added', 'AlbumTitle', \"ArtistName\",  \"Track\", \"Popularity\", \"Tempo\", \n",
    "                        \"Danceability\", \"Energy\", \"Instrumentalness\", \"Valence\", \"Genre\"]\n",
    "    \n",
    "    for x in range(pl_len):\n",
    "        track_dict = dict.fromkeys(track_categories)\n",
    "        track_info = {str(x): track_dict}\n",
    "\n",
    "        track = pl[x]['track']\n",
    "        track_info[str(x)][track_categories[0]] = get_track_added_date(pl[x])\n",
    "        track_info[str(x)][track_categories[1]] = get_track_album_title(track)\n",
    "        track_info[str(x)][track_categories[2]] = get_track_artist(track)\n",
    "        track_info[str(x)][track_categories[3]] = get_track_name(track)\n",
    "        track_info[str(x)][track_categories[4]] = get_track_popularity(track)\n",
    "        track_info[str(x)][track_categories[5]] = get_track_tempo(track['id'])\n",
    "        track_info[str(x)][track_categories[6]] = get_track_danceability(track['id'])\n",
    "        track_info[str(x)][track_categories[7]] = get_track_energy(track['id'])\n",
    "        track_info[str(x)][track_categories[8]] = get_track_instrumentalness(track['id'])\n",
    "        track_info[str(x)][track_categories[9]] = get_track_valence(track['id'])\n",
    "        track_info[str(x)][track_categories[10]] = get_artist_genre(track)\n",
    "\n",
    "        #inital dictionary organized by track\n",
    "        playlist_tracks.append(track_info)\n",
    "        \n",
    "    return playlist_tracks"
   ]
  },
  {
   "cell_type": "code",
   "execution_count": 9,
   "metadata": {},
   "outputs": [],
   "source": [
    "# Uses dictionary containing tracks to organize it into final dictionary of lists organized by categories\n",
    "# to put into dataframe\n",
    "def final_pl_dict(pl_tracks, pl_len):\n",
    "    #dictionary to be put into dataframe\n",
    "    track_categories = ['Date Added', 'AlbumTitle', \"ArtistName\",  \"Track\", \"Popularity\", \"Tempo\", \n",
    "                        \"Danceability\", \"Energy\", \"Instrumentalness\", \"Valence\", \"Genre\"]\n",
    "    playlist_dict = {'Date Added': [], 'Album Title': [], \"Artist Name\": [], \n",
    "                     \"Track\": [], \"Popularity\": [], \"Tempo\": [], \"Danceability\": [], \n",
    "                     \"Energy\": [], \"Instrumentalness\": [], \"Valence\": [], \"Genre\": []}\n",
    "    \n",
    "    for x in range(pl_len):\n",
    "        playlist_dict['Date Added'].append(pl_tracks[x][str(x)][track_categories[0]])\n",
    "        playlist_dict['Album Title'].append(pl_tracks[x][str(x)][track_categories[1]])\n",
    "        playlist_dict['Artist Name'].append(pl_tracks[x][str(x)][track_categories[2]])\n",
    "        playlist_dict['Track'].append(pl_tracks[x][str(x)][track_categories[3]])\n",
    "        playlist_dict['Popularity'].append(pl_tracks[x][str(x)][track_categories[4]])\n",
    "        playlist_dict['Tempo'].append(pl_tracks[x][str(x)][track_categories[5]])\n",
    "        playlist_dict['Danceability'].append(pl_tracks[x][str(x)][track_categories[6]])\n",
    "        playlist_dict['Energy'].append(pl_tracks[x][str(x)][track_categories[7]])\n",
    "        playlist_dict['Instrumentalness'].append(pl_tracks[x][str(x)][track_categories[8]])\n",
    "        playlist_dict['Valence'].append(pl_tracks[x][str(x)][track_categories[9]])\n",
    "        playlist_dict['Genre'].append(pl_tracks[x][str(x)][track_categories[10]])\n",
    "        \n",
    "    return playlist_dict"
   ]
  },
  {
   "cell_type": "code",
   "execution_count": 10,
   "metadata": {},
   "outputs": [],
   "source": [
    "# Returns a list of all playlists \n",
    "def playlists_list(user_id, pl_ids):\n",
    "    acc_playlists = []\n",
    "    for playlist in pl_ids:\n",
    "        acc_playlists.append(get_playlist_tracks(user_id, playlist))\n",
    "    return acc_playlists"
   ]
  },
  {
   "cell_type": "code",
   "execution_count": 11,
   "metadata": {},
   "outputs": [],
   "source": [
    "pl_list = playlists_list(user_id, playlist_ids)\n",
    "playlists_dict = [] \n",
    "\n",
    "# Puts all playlists into a dictionary so that it can later be put into a DataFrame\n",
    "for i in range(len(pl_list)):\n",
    "    pl_len = len(pl_list[i])\n",
    "    track_dict = pl_track_dict(pl_list[i], pl_len)\n",
    "    pl_dict = final_pl_dict(track_dict, pl_len)\n",
    "    playlists_dict.append(pl_dict)"
   ]
  },
  {
   "cell_type": "code",
   "execution_count": 15,
   "metadata": {},
   "outputs": [],
   "source": [
    "for x in range(len(playlists_dict)):\n",
    "    df = pd.DataFrame(playlists_dict[x])\n",
    "    df.to_csv(path_or_buf='YOUR DIRECTORY' \n",
    "              + str(x + 1) + '.csv') "
   ]
  },
  {
   "cell_type": "code",
   "execution_count": null,
   "metadata": {},
   "outputs": [],
   "source": []
  }
 ],
 "metadata": {
  "kernelspec": {
   "display_name": "Python 3",
   "language": "python",
   "name": "python3"
  },
  "language_info": {
   "codemirror_mode": {
    "name": "ipython",
    "version": 3
   },
   "file_extension": ".py",
   "mimetype": "text/x-python",
   "name": "python",
   "nbconvert_exporter": "python",
   "pygments_lexer": "ipython3",
   "version": "3.7.4"
  }
 },
 "nbformat": 4,
 "nbformat_minor": 2
}
